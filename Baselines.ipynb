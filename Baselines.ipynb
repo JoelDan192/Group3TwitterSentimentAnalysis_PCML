{
 "cells": [
  {
   "cell_type": "code",
   "execution_count": 1,
   "metadata": {
    "collapsed": false
   },
   "outputs": [],
   "source": [
    "import numpy as np\n",
    "\n",
    "from sklearn.preprocessing import scale\n",
    "from sklearn.model_selection import train_test_split\n",
    "\n",
    "from sklearn.linear_model import SGDClassifier\n",
    "\n",
    "from sklearn.metrics import roc_curve, auc\n",
    "import matplotlib.pyplot as plt\n",
    "\n",
    "import sys, os\n",
    "sys.path.append(os.getcwd()+\"\\\\tensorflow-glove\")\n",
    "sys.path.append(os.getcwd())\n",
    "import data_helpers\n",
    "import tf_glove\n",
    "import nltk\n",
    "from helpers import *"
   ]
  },
  {
   "cell_type": "code",
   "execution_count": 2,
   "metadata": {
    "collapsed": true
   },
   "outputs": [],
   "source": [
    "positive_data_file = \"./data/twitter-datasets/train_pos.txt\"\n",
    "negative_data_file = \"./data/twitter-datasets/train_neg.txt\"\n",
    "embedding_dim = 128"
   ]
  },
  {
   "cell_type": "code",
   "execution_count": 3,
   "metadata": {
    "collapsed": false
   },
   "outputs": [],
   "source": [
    "x_text, y = data_helpers.load_data_and_labels(positive_data_file, negative_data_file) # Build vocabulary\n",
    "y = np.array([1 if li[0]==0 else 0 for li in y])"
   ]
  },
  {
   "cell_type": "code",
   "execution_count": 4,
   "metadata": {
    "collapsed": false
   },
   "outputs": [
    {
     "name": "stdout",
     "output_type": "stream",
     "text": [
      "WARNING:tensorflow:From c:\\Users\\Joel\\TwitterSentimentAnalysis_PCML_EPFL\\tensorflow-glove\\tf_glove.py:129 in train.: initialize_all_variables (from tensorflow.python.ops.variables) is deprecated and will be removed after 2017-03-02.\n",
      "Instructions for updating:\n",
      "Use `tf.global_variables_initializer` instead.\n"
     ]
    }
   ],
   "source": [
    "corpus_glove = (nltk.wordpunct_tokenize(tweet) for tweet in x_text)\n",
    "glove_model = tf_glove.GloVeModel(embedding_size=embedding_dim, context_size=10, min_occurrences=15,\n",
    "                                        learning_rate=0.05, batch_size=512)\n",
    "glove_model.fit_to_corpus(corpus_glove)\n",
    "glove_model.train(num_epochs=50)\n"
   ]
  },
  {
   "cell_type": "code",
   "execution_count": 5,
   "metadata": {
    "collapsed": true
   },
   "outputs": [],
   "source": [
    "def getTweetEmbedding(tweet, glove, embedding_size):\n",
    "    tweet_embedding = np.zeros(embedding_size).reshape((1,embedding_size))\n",
    "    nbr_tokens = len(tweet)\n",
    "    for token in tweet:\n",
    "        tweet_embedding +=glove.embedding_for(token)\n",
    "    if nbr_tokens>0:\n",
    "        tweet_embedding /= nbr_tokens\n",
    "    return tweet_embedding"
   ]
  },
  {
   "cell_type": "code",
   "execution_count": 6,
   "metadata": {
    "collapsed": false
   },
   "outputs": [],
   "source": [
    "tweet_embeddings = np.concatenate([getTweetEmbedding(nltk.wordpunct_tokenize(tweet), glove_model, 128) for tweet in x_text])\n",
    "x = tweet_embeddings"
   ]
  },
  {
   "cell_type": "code",
   "execution_count": 7,
   "metadata": {
    "collapsed": false
   },
   "outputs": [],
   "source": [
    "def get_accuracies(y, x, hparams, loss='log', penalty='l2', seed=1):\n",
    "    k_fold = len(hparams)\n",
    "    seed = 1\n",
    "    k_indices = build_k_indices(y.shape[0], k_fold, seed)\n",
    "    acc = []\n",
    "    for k, hparam in enumerate(hparams):\n",
    "        model= SGDClassifier(loss=loss, penalty=penalty, alpha=hparam, fit_intercept=False)\n",
    "        test_idx = k_indices[k,:]\n",
    "        row_idx = list(range(k_indices.shape[0]))\n",
    "        train_idx = k_indices[row_idx[:k]+row_idx[k+1:],:].flatten()\n",
    "        y_train, x_train = y[train_idx], x[train_idx, :]\n",
    "        y_dev, x_dev = y[test_idx], x[test_idx, :]\n",
    "        x_train, mean_x, std_x = standardize(x_train)\n",
    "        x_dev, _, _ = standardize(x_dev, mean_x=mean_x, std_x=std_x)\n",
    "        model.fit(x_train, y_train)\n",
    "        acc.append(model.score(x_dev, y_dev))\n",
    "    return acc"
   ]
  },
  {
   "cell_type": "code",
   "execution_count": 8,
   "metadata": {
    "collapsed": false
   },
   "outputs": [],
   "source": [
    "models = [['log','elasticnet'],['hinge','elasticnet'], ['modified_huber', 'l2'], ['perceptron', 'l2']]\n",
    "lambdas = np.logspace(-5, 2, 20)\n",
    "\n",
    "\n",
    "all_acc = [get_accuracies(y, x, lambdas, loss=loss, penalty=penalty) for loss, penalty in models]\n"
   ]
  },
  {
   "cell_type": "code",
   "execution_count": 24,
   "metadata": {
    "collapsed": false
   },
   "outputs": [
    {
     "name": "stdout",
     "output_type": "stream",
     "text": [
      "Populating the interactive namespace from numpy and matplotlib\n"
     ]
    },
    {
     "data": {
      "image/png": "[encoded data removed]",
      "text/plain": [
       "<matplotlib.figure.Figure at 0x1a0a4ae0048>"
      ]
     },
     "metadata": {},
     "output_type": "display_data"
    }
   ],
   "source": [
    "import numpy as np\n",
    "import matplotlib.pyplot as plt\n",
    "\n",
    "#run ./cnn_cross.py --channels \"glove\"  (in the command line)\n",
    "#hyper parameters can be changed in cnn_cross.py as well as frequency of dev evaluation\n",
    "all_acc = all_acc[:4]\n",
    "models = models[:4]\n",
    "all_acc.append(list(np.load('accs_cnn.npy')))\n",
    "models.append(['cnn', 'l2 dropout'])\n",
    "name = {'log':'logit', 'elasticnet': 'el_net', 'hinge':'svm',\n",
    "        'modified_huber':'huber', 'l1':'l1', 'l2':'l2', 'perceptron':'nnet','cnn':'cnn', 'l2 dropout':'l2 dropout'}\n",
    "\n",
    "%pylab inline\n",
    "plt.ylabel('accuracy')\n",
    "plt.boxplot(all_acc)\n",
    "plt.xticks(range(1, len(models) + 1) ,['%s %s'%(name.get(loss), name.get(penalty)) for loss, penalty in models])\n",
    "plt.savefig('baseline_boxplt.jpg', format='jpeg')"
   ]
  },
  {
   "cell_type": "code",
   "execution_count": null,
   "metadata": {
    "collapsed": true
   },
   "outputs": [],
   "source": []
  }
 ],
 "metadata": {
  "anaconda-cloud": {},
  "kernelspec": {
   "display_name": "Python [default]",
   "language": "python",
   "name": "python3"
  },
  "language_info": {
   "codemirror_mode": {
    "name": "ipython",
    "version": 3
   },
   "file_extension": ".py",
   "mimetype": "text/x-python",
   "name": "python",
   "nbconvert_exporter": "python",
   "pygments_lexer": "ipython3",
   "version": "3.5.2"
  }
 },
 "nbformat": 4,
 "nbformat_minor": 1
}
